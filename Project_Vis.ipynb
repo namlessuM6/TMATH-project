{
 "cells": [
  {
   "cell_type": "code",
   "execution_count": 3,
   "id": "5e0ef4b5-64d9-4e2c-aa1b-10d9526a5e12",
   "metadata": {},
   "outputs": [],
   "source": [
    "import numpy as np\n",
    "import pandas as pd"
   ]
  },
  {
   "cell_type": "code",
   "execution_count": 4,
   "id": "4f362593-be56-42e8-888c-c148e9c6079e",
   "metadata": {},
   "outputs": [
    {
     "name": "stdout",
     "output_type": "stream",
     "text": [
      "Collecting kmapper\n",
      "  Using cached kmapper-2.0.1-py3-none-any.whl (125 kB)\n",
      "Requirement already satisfied: scikit-learn in /opt/conda/lib/python3.9/site-packages (from kmapper) (1.0.1)\n",
      "Requirement already satisfied: numpy in /opt/conda/lib/python3.9/site-packages (from kmapper) (1.20.3)\n",
      "Requirement already satisfied: Jinja2 in /opt/conda/lib/python3.9/site-packages (from kmapper) (3.0.2)\n",
      "Requirement already satisfied: scipy in /opt/conda/lib/python3.9/site-packages (from kmapper) (1.7.1)\n",
      "Requirement already satisfied: MarkupSafe>=2.0 in /opt/conda/lib/python3.9/site-packages (from Jinja2->kmapper) (2.0.1)\n",
      "Requirement already satisfied: threadpoolctl>=2.0.0 in /opt/conda/lib/python3.9/site-packages (from scikit-learn->kmapper) (3.0.0)\n",
      "Requirement already satisfied: joblib>=0.11 in /opt/conda/lib/python3.9/site-packages (from scikit-learn->kmapper) (1.1.0)\n",
      "Installing collected packages: kmapper\n",
      "Successfully installed kmapper-2.0.1\n",
      "Note: you may need to restart the kernel to use updated packages.\n"
     ]
    }
   ],
   "source": [
    "pip install kmapper"
   ]
  },
  {
   "cell_type": "code",
   "execution_count": 5,
   "id": "80c6c8ce-f62a-47c9-b9c7-0a4da0137d04",
   "metadata": {},
   "outputs": [],
   "source": [
    "import kmapper as km\n",
    "#from kmapper import jupyter"
   ]
  },
  {
   "cell_type": "code",
   "execution_count": 6,
   "id": "1ba6f0c5-7ae3-4fdc-98c8-ce763ea6d5c4",
   "metadata": {},
   "outputs": [],
   "source": [
    "import matplotlib.pyplot as plt"
   ]
  },
  {
   "cell_type": "code",
   "execution_count": 7,
   "id": "34ea0236-102d-4e33-8f2f-12f397c87f13",
   "metadata": {},
   "outputs": [],
   "source": [
    "prostate_data = pd.read_csv(\"Data/WA_OR_Incidence_Death.csv\",index_col = False)\n",
    "pop_data = pd.read_csv(\"Data/Pop_short.csv\",index_col = False)\n",
    "pop_health_data = pd.read_csv(\"Data/Pop_health.csv\",index_col = False)"
   ]
  },
  {
   "cell_type": "code",
   "execution_count": 12,
   "id": "8a4b0321-3f9b-4d92-8c9c-be8c335d4c60",
   "metadata": {},
   "outputs": [
    {
     "data": {
      "text/plain": [
       "County         object\n",
       "Data.Type      object\n",
       "Cancer.Site    object\n",
       "State          object\n",
       "Year           object\n",
       "                ...  \n",
       "P0040065        int64\n",
       "P0040072        int64\n",
       "H0010001        int64\n",
       "H0010002        int64\n",
       "H0010003        int64\n",
       "Length: 125, dtype: object"
      ]
     },
     "execution_count": 12,
     "metadata": {},
     "output_type": "execute_result"
    }
   ],
   "source": [
    "prostate_data.dtypes\n",
    "pop_health_data.dtypes"
   ]
  },
  {
   "cell_type": "code",
   "execution_count": 13,
   "id": "d40a2018-49fd-4271-b956-f2a4cbbe7273",
   "metadata": {},
   "outputs": [
    {
     "name": "stdout",
     "output_type": "stream",
     "text": [
      "      County  Data.Type Cancer.Site       State         Year  \\\n",
      "0      Adams  Incidence    Prostate  Washington    2014-2018   \n",
      "1      Adams  Mortality    Prostate  Washington    2014-2018   \n",
      "2     Asotin  Mortality    Prostate  Washington    2014-2018   \n",
      "3     Asotin  Incidence    Prostate  Washington    2014-2018   \n",
      "4      Baker  Mortality    Prostate      Oregon  2014 - 2018   \n",
      "..       ...        ...         ...         ...          ...   \n",
      "207  Whitman  Incidence    Prostate  Washington    2014-2018   \n",
      "208   Yakima  Incidence    Prostate  Washington    2014-2018   \n",
      "209  Yamhill  Incidence    Prostate      Oregon    2014-2018   \n",
      "210  Yamhill  Mortality    Prostate      Oregon  2014 - 2018   \n",
      "211  Yamhill  Incidence    Prostate      Oregon    2014-2018   \n",
      "\n",
      "     Average.Annual.Population  Average.Annual.Observations Column1   X  \\\n",
      "0                       9989.0                          6.0    85.5 NaN   \n",
      "1                       9989.0                          NaN     NaN NaN   \n",
      "2                      10880.0                          NaN     NaN NaN   \n",
      "3                      10880.0                         12.0    58.6 NaN   \n",
      "4                          NaN                         15.0    21.3 NaN   \n",
      "..                         ...                          ...     ...  ..   \n",
      "207                    24047.0                          6.0    29.8 NaN   \n",
      "208                   125163.0                        107.0    80.3 NaN   \n",
      "209                        NaN                        271.0   103.9 NaN   \n",
      "210                        NaN                         64.0    22.9 NaN   \n",
      "211                        NaN                        271.0    81.3 NaN   \n",
      "\n",
      "     OBJECTID  ...  P0040010 P0040011  P0040012  P0040028  P0040049  P0040065  \\\n",
      "0          53  ...        10       69        62         7         0         0   \n",
      "1          53  ...        10       69        62         7         0         0   \n",
      "2          40  ...         8      219       209         9         0         1   \n",
      "3          40  ...         8      219       209         9         0         1   \n",
      "4          24  ...         7      219       210         9         0         0   \n",
      "..        ...  ...       ...      ...       ...       ...       ...       ...   \n",
      "207        57  ...        36     1054       963        80         8         3   \n",
      "208        70  ...       214     2333      2208       116         6         3   \n",
      "209        11  ...        88     1374      1279        91         4         0   \n",
      "210        11  ...        88     1374      1279        91         4         0   \n",
      "211        11  ...        88     1374      1279        91         4         0   \n",
      "\n",
      "     P0040072 H0010001 H0010002 H0010003  \n",
      "0           0     6242     5720      522  \n",
      "1           0     6242     5720      522  \n",
      "2           0     9872     9236      636  \n",
      "3           0     9872     9236      636  \n",
      "4           0     8826     7040     1786  \n",
      "..        ...      ...      ...      ...  \n",
      "207         0    19323    17468     1855  \n",
      "208         0    85474    80592     4882  \n",
      "209         0    37110    34726     2384  \n",
      "210         0    37110    34726     2384  \n",
      "211         0    37110    34726     2384  \n",
      "\n",
      "[212 rows x 125 columns]\n"
     ]
    },
    {
     "data": {
      "text/plain": [
       "County         object\n",
       "Data.Type      object\n",
       "Cancer.Site    object\n",
       "State          object\n",
       "Year           object\n",
       "                ...  \n",
       "P0040065        int64\n",
       "P0040072        int64\n",
       "H0010001        int64\n",
       "H0010002        int64\n",
       "H0010003        int64\n",
       "Length: 125, dtype: object"
      ]
     },
     "execution_count": 13,
     "metadata": {},
     "output_type": "execute_result"
    }
   ],
   "source": [
    "print(pop_health_data)\n",
    "pop_health_data.head(4)\n",
    "pop_health_data.dtypes"
   ]
  },
  {
   "cell_type": "code",
   "execution_count": 58,
   "id": "b4ae6b1c-42c9-4de5-ae64-1308c9d2e072",
   "metadata": {},
   "outputs": [
    {
     "name": "stdout",
     "output_type": "stream",
     "text": [
      "     Data Type Cancer Site     County       State         Year  \\\n",
      "0            0    Prostate      Baker      Oregon  2014 - 2018   \n",
      "1            0    Prostate     Benton      Oregon  2014 - 2018   \n",
      "2            0    Prostate  Clackamas      Oregon  2014 - 2018   \n",
      "3            0    Prostate    Clatsop      Oregon  2014 - 2018   \n",
      "4            0    Prostate   Columbia      Oregon  2014 - 2018   \n",
      "..         ...         ...        ...         ...          ...   \n",
      "177          0    Prostate  Snohomish  Washington    2014-2018   \n",
      "178          0    Prostate    Spokane  Washington    2014-2018   \n",
      "179          0    Prostate    Stevens  Washington    2014-2018   \n",
      "180          0    Prostate   Thurston  Washington    2014-2018   \n",
      "181          0    Prostate  Wahkiakum  Washington    2014-2018   \n",
      "\n",
      "     Average Annual Population  Average Annual Observations Column1  \\\n",
      "0                          NaN                         15.0    21.3   \n",
      "1                          NaN                         49.0    22.6   \n",
      "2                          NaN                        230.0    21.6   \n",
      "3                          NaN                         30.0      24   \n",
      "4                          NaN                         38.0      26   \n",
      "..                         ...                          ...     ...   \n",
      "177                   387655.0                         60.0    19.4   \n",
      "178                   245458.0                         52.0    21.0   \n",
      "179                    22126.0                          8.0    25.3   \n",
      "180                   133035.0                         26.0    18.1   \n",
      "181                     2002.0                          0.0     NaN   \n",
      "\n",
      "     Unnamed: 8  \n",
      "0           NaN  \n",
      "1           NaN  \n",
      "2           NaN  \n",
      "3           NaN  \n",
      "4           NaN  \n",
      "..          ...  \n",
      "177         NaN  \n",
      "178         NaN  \n",
      "179         NaN  \n",
      "180         NaN  \n",
      "181         NaN  \n",
      "\n",
      "[182 rows x 9 columns]\n"
     ]
    },
    {
     "data": {
      "text/plain": [
       "Data Type                        int64\n",
       "Cancer Site                     object\n",
       "County                          object\n",
       "State                           object\n",
       "Year                            object\n",
       "Average Annual Population      float64\n",
       "Average Annual Observations    float64\n",
       "Column1                         object\n",
       "Unnamed: 8                     float64\n",
       "dtype: object"
      ]
     },
     "execution_count": 58,
     "metadata": {},
     "output_type": "execute_result"
    }
   ],
   "source": [
    "print(prostate_data)\n",
    "prostate_data.head(4)\n",
    "prostate_data.dtypes"
   ]
  },
  {
   "cell_type": "code",
   "execution_count": 10,
   "id": "0a564543-8e42-4f85-ae7f-768821277606",
   "metadata": {},
   "outputs": [],
   "source": [
    "def DataType2quant(x): #an if statement that is handy to use to convert qualitative entries to quantitative ones\n",
    "    if x==\"Mortality\":\n",
    "        return 1\n",
    "    elif x==\"Incidence\":\n",
    "        return -1\n",
    "    else:\n",
    "        return 0     \n",
    "    \n",
    "def AnnPopFix(x): #an if statement that cleans up the nan entries\n",
    "    if x!=x:   #captures the NaN entries \n",
    "        return 0\n",
    "    else:\n",
    "        return x\n",
    "    \n",
    "prostate_data[\"Data Type\"] = prostate_data[\"Data Type\"].apply(DataType2quant) #notice that we are modifying the original data_train\n",
    "prostate_data[\"Average Annual Observations\"] = prostate_data[\"Average Annual Observations\"].apply(AnnPopFix)\n",
    "\n",
    "sub_prostate_data = np.array([prostate_data[\"Data Type\"],prostate_data[\"Average Annual Observations\"]]) #entered as rows\n",
    "sub_prostate_data = sub_prostate_data.transpose() #got back into columns"
   ]
  },
  {
   "cell_type": "code",
   "execution_count": 11,
   "id": "8ceb08f5-bfae-44ec-8bc8-521dbddd2c02",
   "metadata": {},
   "outputs": [
    {
     "name": "stdout",
     "output_type": "stream",
     "text": [
      "[[ 1.000e+00  1.500e+01]\n",
      " [ 1.000e+00  4.900e+01]\n",
      " [ 1.000e+00  2.300e+02]\n",
      " [ 1.000e+00  3.000e+01]\n",
      " [ 1.000e+00  3.800e+01]\n",
      " [ 1.000e+00  5.900e+01]\n",
      " [ 1.000e+00  1.700e+01]\n",
      " [ 1.000e+00  2.000e+01]\n",
      " [ 1.000e+00  9.400e+01]\n",
      " [ 1.000e+00  9.800e+01]\n",
      " [ 1.000e+00  0.000e+00]\n",
      " [ 1.000e+00  0.000e+00]\n",
      " [ 1.000e+00  0.000e+00]\n",
      " [ 1.000e+00  1.700e+01]\n",
      " [ 1.000e+00  1.590e+02]\n",
      " [ 1.000e+00  1.900e+01]\n",
      " [ 1.000e+00  8.200e+01]\n",
      " [ 1.000e+00  6.600e+01]\n",
      " [ 1.000e+00  0.000e+00]\n",
      " [ 1.000e+00  2.190e+02]\n",
      " [ 1.000e+00  3.000e+01]\n",
      " [ 1.000e+00  9.000e+01]\n",
      " [ 1.000e+00  1.900e+01]\n",
      " [ 1.000e+00  1.620e+02]\n",
      " [ 1.000e+00  0.000e+00]\n",
      " [ 1.000e+00  3.000e+02]\n",
      " [ 1.000e+00  5.100e+01]\n",
      " [ 1.000e+00  0.000e+00]\n",
      " [ 1.000e+00  2.800e+01]\n",
      " [ 1.000e+00  3.100e+01]\n",
      " [ 1.000e+00  2.100e+01]\n",
      " [ 1.000e+00  0.000e+00]\n",
      " [ 1.000e+00  2.200e+01]\n",
      " [ 1.000e+00  1.920e+02]\n",
      " [ 1.000e+00  0.000e+00]\n",
      " [ 1.000e+00  6.400e+01]\n",
      " [-1.000e+00  3.500e+01]\n",
      " [-1.000e+00  3.500e+01]\n",
      " [-1.000e+00  2.400e+02]\n",
      " [-1.000e+00  2.400e+02]\n",
      " [-1.000e+00  1.297e+03]\n",
      " [-1.000e+00  1.297e+03]\n",
      " [-1.000e+00  1.360e+02]\n",
      " [-1.000e+00  1.360e+02]\n",
      " [-1.000e+00  1.760e+02]\n",
      " [-1.000e+00  1.760e+02]\n",
      " [-1.000e+00  2.040e+02]\n",
      " [-1.000e+00  2.040e+02]\n",
      " [-1.000e+00  1.100e+02]\n",
      " [-1.000e+00  1.100e+02]\n",
      " [-1.000e+00  7.200e+01]\n",
      " [-1.000e+00  7.200e+01]\n",
      " [-1.000e+00  7.930e+02]\n",
      " [-1.000e+00  7.930e+02]\n",
      " [-1.000e+00  4.470e+02]\n",
      " [-1.000e+00  4.470e+02]\n",
      " [-1.000e+00  1.100e+01]\n",
      " [-1.000e+00  1.100e+01]\n",
      " [-1.000e+00  3.200e+01]\n",
      " [-1.000e+00  3.200e+01]\n",
      " [-1.000e+00  3.300e+01]\n",
      " [-1.000e+00  3.300e+01]\n",
      " [-1.000e+00  7.700e+01]\n",
      " [-1.000e+00  7.700e+01]\n",
      " [-1.000e+00  7.160e+02]\n",
      " [-1.000e+00  7.160e+02]\n",
      " [-1.000e+00  8.800e+01]\n",
      " [-1.000e+00  8.800e+01]\n",
      " [-1.000e+00  3.190e+02]\n",
      " [-1.000e+00  3.190e+02]\n",
      " [-1.000e+00  2.410e+02]\n",
      " [-1.000e+00  2.410e+02]\n",
      " [-1.000e+00  3.200e+01]\n",
      " [-1.000e+00  3.200e+01]\n",
      " [-1.000e+00  1.152e+03]\n",
      " [ 1.000e+00  1.152e+03]\n",
      " [ 1.000e+00  2.180e+02]\n",
      " [ 1.000e+00  2.180e+02]\n",
      " [ 1.000e+00  4.310e+02]\n",
      " [-1.000e+00  4.310e+02]\n",
      " [-1.000e+00  4.500e+01]\n",
      " [-1.000e+00  4.500e+01]\n",
      " [-1.000e+00  9.240e+02]\n",
      " [-1.000e+00  9.240e+02]\n",
      " [-1.000e+00  3.900e+01]\n",
      " [-1.000e+00  3.900e+01]\n",
      " [-1.000e+00  1.984e+03]\n",
      " [-1.000e+00  1.984e+03]\n",
      " [-1.000e+00  2.410e+02]\n",
      " [-1.000e+00  2.410e+02]\n",
      " [-1.000e+00  0.000e+00]\n",
      " [-1.000e+00  0.000e+00]\n",
      " [-1.000e+00  1.000e+02]\n",
      " [-1.000e+00  1.000e+02]\n",
      " [-1.000e+00  2.330e+02]\n",
      " [-1.000e+00  2.330e+02]\n",
      " [-1.000e+00  9.500e+01]\n",
      " [-1.000e+00  9.500e+01]\n",
      " [-1.000e+00  2.900e+01]\n",
      " [-1.000e+00  2.900e+01]\n",
      " [-1.000e+00  1.060e+02]\n",
      " [-1.000e+00  1.060e+02]\n",
      " [-1.000e+00  1.317e+03]\n",
      " [-1.000e+00  1.317e+03]\n",
      " [-1.000e+00  0.000e+00]\n",
      " [-1.000e+00  0.000e+00]\n",
      " [-1.000e+00  2.710e+02]\n",
      " [-1.000e+00  2.710e+02]\n",
      " [-1.000e+00  6.000e+00]\n",
      " [-1.000e+00  1.200e+01]\n",
      " [-1.000e+00  1.040e+02]\n",
      " [-1.000e+00  6.400e+01]\n",
      " [-1.000e+00  8.100e+01]\n",
      " [-1.000e+00  1.990e+02]\n",
      " [-1.000e+00  5.000e+00]\n",
      " [-1.000e+00  5.500e+01]\n",
      " [-1.000e+00  3.100e+01]\n",
      " [-1.000e+00  3.000e+00]\n",
      " [-1.000e+00  3.300e+01]\n",
      " [-1.000e+00  0.000e+00]\n",
      " [-1.000e+00  5.100e+01]\n",
      " [-1.000e+00  6.700e+01]\n",
      " [-1.000e+00  7.600e+01]\n",
      " [-1.000e+00  4.800e+01]\n",
      " [-1.000e+00  1.208e+03]\n",
      " [-1.000e+00  2.320e+02]\n",
      " [-1.000e+00  2.300e+01]\n",
      " [-1.000e+00  2.100e+01]\n",
      " [-1.000e+00  5.800e+01]\n",
      " [-1.000e+00  6.000e+00]\n",
      " [-1.000e+00  5.800e+01]\n",
      " [-1.000e+00  3.700e+01]\n",
      " [-1.000e+00  2.100e+01]\n",
      " [-1.000e+00  8.000e+00]\n",
      " [-1.000e+00  4.640e+02]\n",
      " [-1.000e+00  2.000e+01]\n",
      " [-1.000e+00  7.900e+01]\n",
      " [-1.000e+00  7.000e+00]\n",
      " [-1.000e+00  4.410e+02]\n",
      " [-1.000e+00  2.020e+02]\n",
      " [-1.000e+00  2.300e+01]\n",
      " [-1.000e+00  1.760e+02]\n",
      " [-1.000e+00  2.000e+00]\n",
      " [-1.000e+00  4.200e+01]\n",
      " [-1.000e+00  1.600e+02]\n",
      " [-1.000e+00  6.000e+00]\n",
      " [-1.000e+00  1.070e+02]\n",
      " [ 1.000e+00  0.000e+00]\n",
      " [ 1.000e+00  0.000e+00]\n",
      " [ 1.000e+00  1.800e+01]\n",
      " [ 1.000e+00  9.000e+00]\n",
      " [ 1.000e+00  1.700e+01]\n",
      " [ 1.000e+00  4.300e+01]\n",
      " [ 1.000e+00  0.000e+00]\n",
      " [ 1.000e+00  1.400e+01]\n",
      " [ 1.000e+00  5.000e+00]\n",
      " [ 1.000e+00  0.000e+00]\n",
      " [ 1.000e+00  4.000e+00]\n",
      " [ 1.000e+00  0.000e+00]\n",
      " [ 1.000e+00  9.000e+00]\n",
      " [ 1.000e+00  1.000e+01]\n",
      " [ 1.000e+00  1.300e+01]\n",
      " [ 1.000e+00  6.000e+00]\n",
      " [ 1.000e+00  1.610e+02]\n",
      " [ 1.000e+00  2.800e+01]\n",
      " [ 1.000e+00  5.000e+00]\n",
      " [ 1.000e+00  3.000e+00]\n",
      " [ 1.000e+00  1.000e+01]\n",
      " [ 1.000e+00  0.000e+00]\n",
      " [ 1.000e+00  1.000e+01]\n",
      " [ 1.000e+00  6.000e+00]\n",
      " [ 1.000e+00  6.000e+00]\n",
      " [ 1.000e+00  2.000e+00]\n",
      " [ 1.000e+00  7.400e+01]\n",
      " [ 1.000e+00  4.000e+00]\n",
      " [ 1.000e+00  1.900e+01]\n",
      " [ 1.000e+00  0.000e+00]\n",
      " [ 1.000e+00  6.000e+01]\n",
      " [ 1.000e+00  5.200e+01]\n",
      " [ 1.000e+00  8.000e+00]\n",
      " [ 1.000e+00  2.600e+01]\n",
      " [ 1.000e+00  0.000e+00]]\n"
     ]
    }
   ],
   "source": [
    "print(sub_prostate_data)"
   ]
  },
  {
   "cell_type": "code",
   "execution_count": 74,
   "id": "018d1029-60a7-46d3-b16d-d9e4e2afd0f2",
   "metadata": {},
   "outputs": [
    {
     "name": "stdout",
     "output_type": "stream",
     "text": [
      "KeplerMapper(verbose=1)\n",
      "..Composing projection pipeline of length 1:\n",
      "\tProjections: [0, 1]\n",
      "\tDistance matrices: False\n",
      "\tScalers: MinMaxScaler()\n",
      "..Projecting on data shaped (182, 2)\n",
      "\n",
      "..Projecting data using: [0, 1]\n",
      "\n",
      "..Scaling with: MinMaxScaler()\n",
      "\n",
      "Mapping on data shaped (182, 2) using lens shaped (182, 2)\n",
      "\n",
      "Creating 25 hypercubes.\n",
      "\n",
      "Created 1 edges and 12 nodes in 0:00:00.015713.\n",
      "Wrote visualization to: mapper_visualization_output.html\n"
     ]
    },
    {
     "data": {
      "text/html": [
       "\n",
       "        <iframe\n",
       "            width=\"800\"\n",
       "            height=\"600\"\n",
       "            src=\"mapper_visualization_output.html\"\n",
       "            frameborder=\"0\"\n",
       "            allowfullscreen\n",
       "            \n",
       "        ></iframe>\n",
       "        "
      ],
      "text/plain": [
       "<IPython.lib.display.IFrame at 0x7f8bc0e97d90>"
      ]
     },
     "execution_count": 74,
     "metadata": {},
     "output_type": "execute_result"
    }
   ],
   "source": [
    "# Initialize\n",
    "mapper = km.KeplerMapper(verbose=1)\n",
    "\n",
    "# Fit to and transform the data\n",
    "norm_projected_data = mapper.fit_transform(sub_prostate_data, projection= [0,1]) \n",
    "\n",
    "# Create a cover with 10 elements\n",
    "cover = km.Cover(n_cubes=5)\n",
    "\n",
    "# Create dictionary called 'graph' with nodes, edges and meta-information\n",
    "graph = mapper.map(projected_data, sub_prostate_data, cover=cover)\n",
    "\n",
    "# Visualize it\n",
    "_ = mapper.visualize(graph, title=\"Data Type by Annual Average Observations\")\n",
    "\n",
    "\n",
    "##use an IFrame to display a vis with a set width and height\n",
    "from IPython.display import IFrame\n",
    "IFrame(src=\"mapper_visualization_output.html\", width=800, height=600)"
   ]
  },
  {
   "cell_type": "code",
   "execution_count": 54,
   "id": "53ce0a63-eb7b-495d-8532-9ecbd1b8e652",
   "metadata": {},
   "outputs": [
    {
     "data": {
      "text/plain": [
       "<matplotlib.collections.PathCollection at 0x7f8bc0d0db50>"
      ]
     },
     "execution_count": 54,
     "metadata": {},
     "output_type": "execute_result"
    },
    {
     "data": {
      "image/png": "[encoded data removed]",
      "text/plain": [
       "<Figure size 432x288 with 1 Axes>"
      ]
     },
     "metadata": {
      "needs_background": "light"
     },
     "output_type": "display_data"
    }
   ],
   "source": [
    "plt.scatter(sub_prostate_data[:, 0], sub_prostate_data[:, 1], marker='o', c=None)"
   ]
  },
  {
   "cell_type": "code",
   "execution_count": 55,
   "id": "37891c8a-9bb1-4b3e-a765-d1ca9a80b3d9",
   "metadata": {},
   "outputs": [
    {
     "data": {
      "text/plain": [
       "Data Type                        int64\n",
       "Cancer Site                     object\n",
       "County                          object\n",
       "State                           object\n",
       "Year                            object\n",
       "Average Annual Population      float64\n",
       "Average Annual Observations    float64\n",
       "Column1                         object\n",
       "Unnamed: 8                     float64\n",
       "dtype: object"
      ]
     },
     "execution_count": 55,
     "metadata": {},
     "output_type": "execute_result"
    }
   ],
   "source": [
    "prostate_data.dtypes"
   ]
  },
  {
   "cell_type": "code",
   "execution_count": null,
   "id": "852088dd-e1a3-4b8f-8d8b-235fe205b0de",
   "metadata": {},
   "outputs": [],
   "source": [
    "def DataType2quant(x): #an if statement that is handy to use to convert qualitative entries to quantitative ones\n",
    "    if x==\"Mortality\":\n",
    "        return 1\n",
    "    elif x==\"Incidence\":\n",
    "        return -1\n",
    "    else:\n",
    "        return 0     \n",
    "    \n",
    "def AnnPopFix(x): #an if statement that cleans up the nan entries\n",
    "    if x!=x:   #captures the NaN entries \n",
    "        return 0\n",
    "    else:\n",
    "        return x\n",
    "    \n",
    "prostate_data[\"Data Type\"] = prostate_data[\"Data Type\"].apply(DataType2quant) #notice that we are modifying the original data_train\n",
    "prostate_data[\"Average Annual Observations\"] = prostate_data[\"Average Annual Observations\"].apply(AnnPopFix)\n",
    "\n",
    "sub_prostate_data = np.array([prostate_data[\"Data Type\"],prostate_data[\"Average Annual Observations\"]]) #entered as rows\n",
    "sub_prostate_data = sub_prostate_data.transpose() #got back into columns"
   ]
  }
 ],
 "metadata": {
  "kernelspec": {
   "display_name": "Python 3 (ipykernel)",
   "language": "python",
   "name": "python3"
  },
  "language_info": {
   "codemirror_mode": {
    "name": "ipython",
    "version": 3
   },
   "file_extension": ".py",
   "mimetype": "text/x-python",
   "name": "python",
   "nbconvert_exporter": "python",
   "pygments_lexer": "ipython3",
   "version": "3.9.7"
  }
 },
 "nbformat": 4,
 "nbformat_minor": 5
}
