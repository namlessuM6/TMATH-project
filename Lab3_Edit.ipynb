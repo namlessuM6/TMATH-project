{
 "cells": [
  {
   "cell_type": "code",
   "execution_count": 1,
   "id": "35d2dad4-f0ef-40a7-8487-e3d94db2710f",
   "metadata": {},
   "outputs": [],
   "source": [
    "import numpy as np\n",
    "import pandas as pd"
   ]
  },
  {
   "cell_type": "code",
   "execution_count": 2,
   "id": "cfcf80af-57bb-4cce-afaa-a886844b0746",
   "metadata": {},
   "outputs": [
    {
     "name": "stdout",
     "output_type": "stream",
     "text": [
      "Collecting kmapper\n",
      "  Using cached kmapper-2.0.1-py3-none-any.whl (125 kB)\n",
      "Requirement already satisfied: Jinja2 in /opt/conda/lib/python3.9/site-packages (from kmapper) (3.0.2)\n",
      "Requirement already satisfied: scipy in /opt/conda/lib/python3.9/site-packages (from kmapper) (1.7.1)\n",
      "Requirement already satisfied: scikit-learn in /opt/conda/lib/python3.9/site-packages (from kmapper) (1.0.1)\n",
      "Requirement already satisfied: numpy in /opt/conda/lib/python3.9/site-packages (from kmapper) (1.20.3)\n",
      "Requirement already satisfied: MarkupSafe>=2.0 in /opt/conda/lib/python3.9/site-packages (from Jinja2->kmapper) (2.0.1)\n",
      "Requirement already satisfied: joblib>=0.11 in /opt/conda/lib/python3.9/site-packages (from scikit-learn->kmapper) (1.1.0)\n",
      "Requirement already satisfied: threadpoolctl>=2.0.0 in /opt/conda/lib/python3.9/site-packages (from scikit-learn->kmapper) (3.0.0)\n",
      "Installing collected packages: kmapper\n",
      "Successfully installed kmapper-2.0.1\n",
      "Note: you may need to restart the kernel to use updated packages.\n"
     ]
    }
   ],
   "source": [
    "pip install kmapper"
   ]
  },
  {
   "cell_type": "code",
   "execution_count": 3,
   "id": "1ea7dde2-5cc3-498d-818e-b0ca924f9d0e",
   "metadata": {},
   "outputs": [],
   "source": [
    "import kmapper as km"
   ]
  },
  {
   "cell_type": "code",
   "execution_count": 4,
   "id": "0636efb8-131e-40c7-8e18-0df52c608fe1",
   "metadata": {},
   "outputs": [],
   "source": [
    "import sklearn"
   ]
  },
  {
   "cell_type": "code",
   "execution_count": 5,
   "id": "1457b478-1b04-404e-9eab-2e5c3c5e925d",
   "metadata": {},
   "outputs": [],
   "source": [
    "import matplotlib.pyplot as plt"
   ]
  },
  {
   "cell_type": "code",
   "execution_count": 7,
   "id": "adfd5c8b-4de9-4686-b95b-bd4567c08e48",
   "metadata": {},
   "outputs": [],
   "source": [
    "tgood_nom =pd.read_csv('Data/Pop_health_DEM_map.csv')"
   ]
  },
  {
   "cell_type": "code",
   "execution_count": 8,
   "id": "40edbea7-0a0f-44f4-98f3-22be6f407b74",
   "metadata": {},
   "outputs": [],
   "source": [
    "def AnnObsFix(x):\n",
    "    if x!=x:   #captures the NaN entries \n",
    "        return float(0)\n",
    "    else:\n",
    "        return x\n",
    "def nonwhite(x):\n",
    "    y = 100-x\n",
    "    return float(y)\n",
    "\n",
    "def hispanic(x):\n",
    "    return float(x)\n",
    "\n",
    "def white(x):\n",
    "    return float(x)\n",
    "\n",
    "def pov(x):\n",
    "    return float(x)\n",
    "        \n",
    "\n",
    "tgood_nom['Age.Adjusted.Rate.per.100.000'] = tgood_nom['Age.Adjusted.Rate.per.100.000'].apply(AnnObsFix)\n",
    "tgood_nom['Pct_White'].apply(white)\n",
    "tgood_nom['Pct_nonWhite'] = tgood_nom['Pct_White'].apply(nonwhite)\n",
    "tgood_nom['Pct_Hisp'] = tgood_nom['Pct_Hisp'].apply(hispanic)\n",
    "tgood_nom['Pct_pvty'] = tgood_nom['Pct_pvty'].apply(pov)\n",
    "\n",
    "\n",
    "mapdata = np.array([tgood_nom['Age.Adjusted.Rate.per.100.000'], tgood_nom['Pct_White'], tgood_nom['Pct_nonWhite'], tgood_nom['Pct_Hisp'], tgood_nom['Pct_pvty'] ])\n",
    "mapdata = mapdata.transpose()"
   ]
  },
  {
   "cell_type": "code",
   "execution_count": 9,
   "id": "fed02b8d-c511-4756-895d-84b75e57e4e1",
   "metadata": {},
   "outputs": [
    {
     "name": "stdout",
     "output_type": "stream",
     "text": [
      "[[ 46.          94.60766084   5.39233916   3.27259204  16.        ]\n",
      " [ 88.          87.06107807  12.93892193   6.38824945  17.3       ]\n",
      " [ 94.          88.18565289  11.81434711   7.74963297   8.4       ]\n",
      " [ 83.          90.93118065   9.06881935   7.6621939   12.9       ]\n",
      " [ 97.          92.50268485   7.49731515   4.02626087  10.2       ]\n",
      " [ 68.          89.80854338  10.19145662   5.37886839  17.4       ]\n",
      " [ 94.          92.67327677   7.32672323   6.97397273  12.        ]\n",
      " [ 56.          91.9960651    8.0039349    5.37023788  14.8       ]\n",
      " [113.          92.16460728   7.83539272   7.42900978   8.7       ]\n",
      " [115.          92.38763967   7.61236033   4.6950319   16.5       ]\n",
      " [101.          95.18973811   4.81026189   4.70336718  10.4       ]\n",
      " [ 79.          94.96306246   5.03693754   2.78038952  15.6       ]\n",
      " [ 94.          91.87550525   8.12449475   3.96119644  16.2       ]\n",
      " [106.          83.09317104  16.90682896  29.48626152  10.9       ]\n",
      " [ 86.          88.66470478  11.33529522  10.70096355  13.5       ]\n",
      " [101.          69.04235727  30.95764273  19.31399632  15.9       ]\n",
      " [ 82.          92.42682529   7.57317471   6.34845792  16.8       ]\n",
      " [ 92.          85.8978608   14.1021392   10.41729437  19.1       ]\n",
      " [ 77.          90.31032299   9.68967701   6.90310323  15.7       ]\n",
      " [ 90.          88.33430476  11.66569524   7.43983055  14.4       ]\n",
      " [ 92.          87.74601382  12.25398618   7.93978364  15.2       ]\n",
      " [100.          90.56928826   9.43071174   7.82278524  12.1       ]\n",
      " [ 46.          77.51413151  22.48586849  31.51087408  20.        ]\n",
      " [ 96.          78.22030539  21.77969461  24.28972363  13.3       ]\n",
      " [100.          77.68728184  22.31271816  31.29866643  13.8       ]\n",
      " [ 97.          76.48510745  23.51489255  10.89817688  12.4       ]\n",
      " [ 93.          85.94883493  14.05116507  12.05257085  11.        ]\n",
      " [  0.          93.37110482   6.62889518   5.55240793  12.8       ]\n",
      " [ 78.          91.49306931   8.50693069   9.04554455  14.6       ]\n",
      " [100.          79.05625321  20.94374679  23.85984794  13.2       ]\n",
      " [100.          93.0868417    6.9131583    3.89156439  17.5       ]\n",
      " [ 73.          96.04737443   3.95262557   2.2260274   12.9       ]\n",
      " [ 99.          86.06671162  13.93328838  14.8455162   13.3       ]\n",
      " [ 91.          76.57812765  23.42187235  15.71992222   8.6       ]\n",
      " [  0.          92.43580847   7.56419153   4.30256766  17.4       ]\n",
      " [ 81.          85.44756182  14.55243818  14.71071547  10.9       ]\n",
      " [ 85.          62.4893208   37.5106792   59.26420333  16.        ]\n",
      " [ 58.          94.30698793   5.69301207   2.97368543  13.9       ]\n",
      " [ 88.          82.44118806  17.55881194  18.66455071  10.6       ]\n",
      " [112.          79.33970988  20.66029012  25.82777801  10.8       ]\n",
      " [110.          86.9587138   13.0412862    5.07954736  12.        ]\n",
      " [ 71.          85.43220731  14.56779269   7.56201174   9.        ]\n",
      " [ 97.          92.96223639   7.03776361   6.2285434   13.2       ]\n",
      " [ 69.          88.92588614  11.07411386   7.78732546  12.6       ]\n",
      " [115.          79.55296505  20.44703495  28.6565533   10.        ]\n",
      " [ 41.          76.25480069  23.74519931   3.36379288  17.5       ]\n",
      " [ 94.          60.47618438  39.52381562  51.18022594  11.8       ]\n",
      " [  0.          93.77758164   6.22241836   4.01588703  13.2       ]\n",
      " [ 79.          72.82989228  27.17010772  38.33370736  11.7       ]\n",
      " [115.          84.92795033  15.07204967   8.61573966  13.7       ]\n",
      " [106.          86.12207984  13.87792016   5.47091942   8.1       ]\n",
      " [101.          91.04847349   8.95152651   2.83877879  11.2       ]\n",
      " [114.          68.65220383  31.34779617   8.9257263    9.3       ]\n",
      " [120.          82.57337745  17.42662255   6.24609271   8.7       ]\n",
      " [ 83.          89.31687645  10.68312355   7.62800929  14.4       ]\n",
      " [106.          87.7251698   12.2748302   10.6851068   13.        ]\n",
      " [ 96.          89.73825459  10.26174541   8.65018885  13.5       ]\n",
      " [ 92.          94.96688742   5.03311258   2.26111637  11.3       ]\n",
      " [106.          86.13156724  13.86843276   7.98036212  12.6       ]\n",
      " [102.          73.92752918  26.07247082  17.57538911  16.        ]\n",
      " [ 99.          87.40917782  12.59082218   8.01625239  13.4       ]\n",
      " [ 59.          91.58526267   8.41473733   3.00746096  15.9       ]\n",
      " [ 98.          74.19786853  25.80213147   9.16080355   8.2       ]\n",
      " [104.          92.56769611   7.43230389   5.43471368  10.8       ]\n",
      " [ 87.          83.35942379  16.64057621  16.85956493  11.6       ]\n",
      " [ 62.          92.76161215   7.23838785   4.99728899  10.9       ]\n",
      " [102.          78.36584494  21.63415506   9.00684812   7.2       ]\n",
      " [ 65.          89.1885124   10.8114876    4.51168348  11.2       ]\n",
      " [ 59.          89.41444028  10.58555972   2.72219797  13.6       ]\n",
      " [102.          82.39621983  17.60378017   7.05094663   9.9       ]\n",
      " [ 39.          93.9668175    6.0331825    2.71493213  11.7       ]\n",
      " [104.          84.47287389  15.52712611  19.72235927  12.1       ]\n",
      " [111.          85.42109973  14.57890027   7.83334991  13.        ]\n",
      " [ 29.          84.56762551  15.43237449   4.55601215  18.1       ]\n",
      " [ 80.          63.74845312  36.25154688  45.00659867  14.7       ]]\n"
     ]
    }
   ],
   "source": [
    "print(mapdata)"
   ]
  },
  {
   "cell_type": "code",
   "execution_count": 15,
   "id": "978e08be-d966-4af6-b0b6-d1cc3fa0fe6a",
   "metadata": {},
   "outputs": [
    {
     "name": "stdout",
     "output_type": "stream",
     "text": [
      "KeplerMapper(verbose=2)\n",
      "..Composing projection pipeline of length 1:\n",
      "\tProjections: [0, 4]\n",
      "\tDistance matrices: False\n",
      "\tScalers: MinMaxScaler()\n",
      "..Projecting on data shaped (75, 5)\n",
      "\n",
      "..Projecting data using: [0, 4]\n",
      "\n",
      "..Scaling with: MinMaxScaler()\n",
      "\n",
      "Mapping on data shaped (75, 5) using lens shaped (75, 2)\n",
      "\n",
      "Minimal points in hypercube before clustering: 1\n",
      "Creating 25 hypercubes.\n",
      "   > Found 1 clusters in hypercube 0.\n",
      "   > Found 1 clusters in hypercube 1.\n",
      "   > Found 2 clusters in hypercube 2.\n",
      "   > Found 2 clusters in hypercube 3.\n",
      "   > Found 2 clusters in hypercube 4.\n",
      "   > Found 1 clusters in hypercube 5.\n",
      "   > Found 3 clusters in hypercube 6.\n",
      "   > Found 3 clusters in hypercube 7.\n",
      "   > Found 1 clusters in hypercube 8.\n",
      "   > Found 3 clusters in hypercube 9.\n",
      "   > Found 2 clusters in hypercube 10.\n",
      "   > Found 3 clusters in hypercube 11.\n",
      "   > Found 3 clusters in hypercube 12.\n",
      "   > Found 2 clusters in hypercube 13.\n",
      "   > Found 3 clusters in hypercube 14.\n",
      "   > Found 3 clusters in hypercube 15.\n",
      "   > Found 5 clusters in hypercube 16.\n",
      "   > Found 1 clusters in hypercube 17.\n",
      "   > Found 3 clusters in hypercube 18.\n",
      "   > Found 3 clusters in hypercube 19.\n",
      "   > Found 2 clusters in hypercube 20.\n",
      "   > Found 5 clusters in hypercube 21.\n",
      "   > Found 2 clusters in hypercube 22.\n",
      "Merged 19 duplicate nodes.\n",
      "\n",
      "Number of nodes before merger: 56; after merger: 37\n",
      "\n",
      "\n",
      "Created 68 edges and 37 nodes in 0:00:00.046386.\n",
      "Wrote visualization to: mapper_visualization_output.html\n",
      "{'cube0_cluster0-cube1_cluster0': [27, 47], 'cube2_cluster0-cube3_cluster0': [34], 'cube2_cluster1-cube3_cluster1-cube6_cluster2-cube7_cluster2': [73], 'cube4_cluster0': [68], 'cube4_cluster1-cube9_cluster2': [70], 'cube5_cluster0': [0, 68, 37, 70, 7, 61], 'cube6_cluster0': [0, 68, 37, 7, 61], 'cube6_cluster1-cube7_cluster1-cube11_cluster1-cube12_cluster2': [45], 'cube7_cluster0-cube12_cluster1': [22], 'cube8_cluster0': [65, 41, 35], 'cube9_cluster0': [65, 35, 3, 67, 68, 41, 43, 31], 'cube9_cluster1-cube14_cluster2': [48], 'cube10_cluster0': [0, 3, 67, 37, 68, 7, 70, 11, 43, 18, 54, 28, 61, 31], 'cube10_cluster1-cube15_cluster2': [48, 74], 'cube11_cluster0': [0, 68, 5, 37, 7, 11, 16, 18, 54, 28, 61], 'cube11_cluster2-cube16_cluster4': [74], 'cube12_cluster0': [16, 5], 'cube13_cluster0': [33, 2, 35, 4, 65, 38, 66, 69, 41, 10, 50, 26, 62, 63], 'cube13_cluster1': [13], 'cube14_cluster0': [3, 4, 6, 10, 13, 14, 21, 23, 25, 26, 29, 31, 32, 33, 35, 38, 41, 42, 43, 51, 55, 56, 57, 58, 60, 63, 64, 65, 67, 69, 71], 'cube14_cluster1-cube19_cluster1': [46], 'cube15_cluster0': [3, 6, 11, 14, 15, 18, 19, 20, 21, 23, 24, 25, 28, 29, 31, 32, 42, 43, 51, 54, 55, 56, 57, 58, 59, 60, 64, 67, 71], 'cube15_cluster1-cube20_cluster1': [36, 46], 'cube16_cluster0': [1, 5, 11, 12, 16, 18, 19, 20, 54, 28, 30], 'cube16_cluster1-cube21_cluster2': [59, 15], 'cube16_cluster2-cube21_cluster3': [24], 'cube16_cluster3-cube21_cluster4': [36], 'cube17_cluster0': [1, 5, 12, 16, 17, 30], 'cube18_cluster0': [33, 2, 66, 4, 69, 38, 8, 10, 50, 53, 26, 62, 63], 'cube18_cluster1': [44, 13, 39], 'cube18_cluster2-cube19_cluster2': [52], 'cube19_cluster0': [4, 6, 8, 10, 13, 14, 21, 23, 25, 26, 29, 32, 33, 38, 39, 40, 42, 44, 51, 53, 55, 56, 57, 58, 60, 63, 64, 69, 71, 72], 'cube20_cluster0': [6, 14, 15, 19, 20, 21, 23, 24, 25, 29, 32, 40, 42, 49, 51, 55, 56, 57, 58, 59, 60, 64, 71, 72], 'cube21_cluster0': [1, 12, 19, 20, 30], 'cube21_cluster1': [9, 49], 'cube22_cluster0': [1, 12, 17, 30], 'cube22_cluster1': [9]}\n"
     ]
    }
   ],
   "source": [
    "#A\n",
    "\n",
    "# Initialize\n",
    "mapper = km.KeplerMapper(verbose=2)\n",
    "\n",
    "# Fit to and transform the data\n",
    "projected_data = mapper.fit_transform(mapdata, projection= [0,4])\n",
    "\n",
    "clusterer = clusterer=sklearn.cluster.DBSCAN(eps=15, min_samples=1)\n",
    "\n",
    "# Create a cover with 10 elements\n",
    "cover = km.Cover(n_cubes=5, perc_overlap = 0.5)\n",
    "\n",
    "# Create dictionary called 'graph' with nodes, edges and meta-information\n",
    "graph = mapper.map(projected_data, mapdata, cover=cover, clusterer = clusterer, remove_duplicate_nodes = True\n",
    "                )\n",
    "\n",
    "# Visualize it\n",
    "_ = mapper.visualize(graph, title=\"Data Type by Annual Average Observations\")\n",
    "\n",
    "\n",
    "##use an IFrame to display a vis with a set width and height\n",
    "from IPython.display import IFrame\n",
    "IFrame(src=\"mapper_visualization_output.html\", width=800, height=600)\n",
    "print(graph['nodes'])"
   ]
  },
  {
   "cell_type": "code",
   "execution_count": 11,
   "id": "3267a009-2f03-4e08-b3b8-b6c4c9e02383",
   "metadata": {},
   "outputs": [
    {
     "name": "stdout",
     "output_type": "stream",
     "text": [
      "       StCtyName   Pct_Hisp  Age.Adjusted.Rate.per.100.000  Pct_White  \\\n",
      "24  MorrowOregon  31.298666                          100.0  77.687282   \n",
      "\n",
      "    Pct_nonWhite  Pct_pvty  \n",
      "24     22.312718      13.8  \n"
     ]
    }
   ],
   "source": [
    "print(tgood_nom[['StCtyName','Pct_Hisp','Age.Adjusted.Rate.per.100.000', 'Pct_White', 'Pct_nonWhite', 'Pct_pvty']].loc[[24]])"
   ]
  },
  {
   "cell_type": "markdown",
   "id": "6326a5f8-7e90-421d-8339-236249a89b4d",
   "metadata": {},
   "source": [
    "B\n",
    "The KMapper visulization above the data is mapped by cancer rate and poverty with an epsilon value of 15. The clusters are counties that have similar cancer rates or similar levels of poverty. The clusters that are not connected to the main cluster are counties that are either so small that they have not enough data to have an acurate cancer rate, or have an very high or low cancer rate or poverty perctage when compared to the rest of the counties. "
   ]
  },
  {
   "cell_type": "markdown",
   "id": "a43f1c79-9285-4e0a-8820-0b60c455ea7e",
   "metadata": {},
   "source": [
    "C\n",
    "We see that most counties are connected together in a single graph, this means that most counties in Washington and Oregon have a similar cancer rate when compared against poverty rate. "
   ]
  },
  {
   "cell_type": "markdown",
   "id": "6624d613-4632-49fe-aac9-a86c288193f6",
   "metadata": {},
   "source": [
    "D\n",
    "We are still slightly confused on how to properly code KMapper into doing exactly what we want, so our results may not be 100% accurate."
   ]
  },
  {
   "cell_type": "code",
   "execution_count": null,
   "id": "c1a6be72-ace2-41a8-b078-8d35e21139e6",
   "metadata": {},
   "outputs": [],
   "source": []
  },
  {
   "cell_type": "code",
   "execution_count": 12,
   "id": "e3c08025-1b15-488e-a64a-83b44f64f698",
   "metadata": {},
   "outputs": [],
   "source": [
    "def DataType2quant(x): #an if statement that is handy to use to convert qualitative entries to quantitative ones\n",
    "    if x==\"Mortality\":\n",
    "        return int(1)\n",
    "    elif x==\"Incidence\":\n",
    "        return int(-1)\n",
    "    else:\n",
    "        return int(0)\n",
    "    \n",
    "    \n",
    "def AnnObsFix(x):\n",
    "    if x!=x:   #captures the NaN entries \n",
    "        return int(0)\n",
    "    else:\n",
    "        return x\n",
    "    \n",
    "    \n",
    "tgood_nom[\"Data.Type\"] = tgood_nom[\"Data.Type\"].apply(DataType2quant) #notice that we are modifying the original data_train\n",
    "#tgood[\"Average.Annual.Population\"] = tgood[\"Average.Annual.Population\"].apply(AnnPopFix)\n",
    "tgood_nom[\"Age.Adjusted.Rate.per.100.000\"] = tgood_nom[\"Age.Adjusted.Rate.per.100.000\"].apply(AnnObsFix)\n",
    "\n",
    "sub_tgood_nom = np.array([tgood_nom[\"Data.Type\"],tgood_nom[\"Pct_pvty\"],tgood_nom[\"Age.Adjusted.Rate.per.100.000\"] ]) #entered as rows\n",
    "sub_tgood_nom = sub_tgood_nom.transpose() #got back into columns"
   ]
  },
  {
   "cell_type": "code",
   "execution_count": 106,
   "id": "bde51f23-ca6d-44a8-9a5e-389fd056f7ca",
   "metadata": {},
   "outputs": [
    {
     "name": "stdout",
     "output_type": "stream",
     "text": [
      "[[ -1.   16.   46. ]\n",
      " [ -1.   17.3  88. ]\n",
      " [ -1.    8.4  94. ]\n",
      " [ -1.   12.9  83. ]\n",
      " [ -1.   10.2  97. ]\n",
      " [ -1.   17.4  68. ]\n",
      " [ -1.   12.   94. ]\n",
      " [ -1.   14.8  56. ]\n",
      " [ -1.    8.7 113. ]\n",
      " [ -1.   16.5 115. ]\n",
      " [ -1.   10.4 101. ]\n",
      " [ -1.   15.6  79. ]\n",
      " [ -1.   16.2  94. ]\n",
      " [ -1.   10.9 106. ]\n",
      " [ -1.   13.5  86. ]\n",
      " [ -1.   15.9 101. ]\n",
      " [ -1.   16.8  82. ]\n",
      " [ -1.   19.1  92. ]\n",
      " [ -1.   15.7  77. ]\n",
      " [ -1.   14.4  90. ]\n",
      " [ -1.   15.2  92. ]\n",
      " [ -1.   12.1 100. ]\n",
      " [ -1.   20.   46. ]\n",
      " [ -1.   13.3  96. ]\n",
      " [ -1.   13.8 100. ]\n",
      " [ -1.   12.4  97. ]\n",
      " [ -1.   11.   93. ]\n",
      " [ -1.   12.8   0. ]\n",
      " [ -1.   14.6  78. ]\n",
      " [ -1.   13.2 100. ]\n",
      " [ -1.   17.5 100. ]\n",
      " [ -1.   12.9  73. ]\n",
      " [ -1.   13.3  99. ]\n",
      " [ -1.    8.6  91. ]\n",
      " [ -1.   17.4   0. ]\n",
      " [ -1.   10.9  81. ]\n",
      " [ -1.   16.   85. ]\n",
      " [ -1.   13.9  58. ]\n",
      " [ -1.   10.6  88. ]\n",
      " [ -1.   10.8 112. ]\n",
      " [ -1.   12.  110. ]\n",
      " [ -1.    9.   71. ]\n",
      " [ -1.   13.2  97. ]\n",
      " [ -1.   12.6  69. ]\n",
      " [ -1.   10.  115. ]\n",
      " [ -1.   17.5  41. ]\n",
      " [ -1.   11.8  94. ]\n",
      " [ -1.   13.2   0. ]\n",
      " [ -1.   11.7  79. ]\n",
      " [ -1.   13.7 115. ]\n",
      " [ -1.    8.1 106. ]\n",
      " [ -1.   11.2 101. ]\n",
      " [ -1.    9.3 114. ]\n",
      " [ -1.    8.7 120. ]\n",
      " [ -1.   14.4  83. ]\n",
      " [ -1.   13.  106. ]\n",
      " [ -1.   13.5  96. ]\n",
      " [ -1.   11.3  92. ]\n",
      " [ -1.   12.6 106. ]\n",
      " [ -1.   16.  102. ]\n",
      " [ -1.   13.4  99. ]\n",
      " [ -1.   15.9  59. ]\n",
      " [ -1.    8.2  98. ]\n",
      " [ -1.   10.8 104. ]\n",
      " [ -1.   11.6  87. ]\n",
      " [ -1.   10.9  62. ]\n",
      " [ -1.    7.2 102. ]\n",
      " [ -1.   11.2  65. ]\n",
      " [ -1.   13.6  59. ]\n",
      " [ -1.    9.9 102. ]\n",
      " [ -1.   11.7  39. ]\n",
      " [ -1.   12.1 104. ]\n",
      " [ -1.   13.  111. ]\n",
      " [ -1.   18.1  29. ]\n",
      " [ -1.   14.7  80. ]]\n"
     ]
    }
   ],
   "source": [
    "print(sub_tgood_nom)"
   ]
  },
  {
   "cell_type": "code",
   "execution_count": 21,
   "id": "ee5612cc-c07d-4cb6-9890-7474c88e19b0",
   "metadata": {},
   "outputs": [
    {
     "data": {
      "text/plain": [
       "Text(0.5, 0, 'Age Adjusted Rate')"
      ]
     },
     "execution_count": 21,
     "metadata": {},
     "output_type": "execute_result"
    },
    {
     "data": {
      "image/png": "[encoded data removed]",
      "text/plain": [
       "<Figure size 432x288 with 1 Axes>"
      ]
     },
     "metadata": {
      "needs_background": "light"
     },
     "output_type": "display_data"
    }
   ],
   "source": [
    "#E\n",
    "plt.scatter(sub_tgood_nom[:, 2], sub_tgood_nom[:, 1], marker='o' )\n",
    "plt.title(\"Prostate Cancer Rate per 100,000 vs Population Living under Poverty\")\n",
    "plt.ylabel('Poverty Percentage')\n",
    "plt.xlabel('Age Adjusted Rate')"
   ]
  },
  {
   "cell_type": "markdown",
   "id": "f3552cc8-7c74-45fe-b7f2-4f0f79f9fdf0",
   "metadata": {},
   "source": [
    "In the graph you can see how most counties are grouped close together on the rigt side of the graph, then there are a few outlier counties around the edges of the graph. This is consistent with our KMapper visualization as most counties are grouped together in one graph."
   ]
  },
  {
   "cell_type": "code",
   "execution_count": null,
   "id": "130d8201-a66b-421b-b8f3-da3466df1a3a",
   "metadata": {},
   "outputs": [],
   "source": []
  }
 ],
 "metadata": {
  "kernelspec": {
   "display_name": "Python 3 (ipykernel)",
   "language": "python",
   "name": "python3"
  },
  "language_info": {
   "codemirror_mode": {
    "name": "ipython",
    "version": 3
   },
   "file_extension": ".py",
   "mimetype": "text/x-python",
   "name": "python",
   "nbconvert_exporter": "python",
   "pygments_lexer": "ipython3",
   "version": "3.9.7"
  }
 },
 "nbformat": 4,
 "nbformat_minor": 5
}
