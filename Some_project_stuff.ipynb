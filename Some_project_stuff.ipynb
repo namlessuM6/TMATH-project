{
 "cells": [
  {
   "cell_type": "markdown",
   "id": "576a3091-9dbc-44ec-abb7-4df38f9ec246",
   "metadata": {},
   "source": [
    "Sandbox"
   ]
  },
  {
   "cell_type": "code",
   "execution_count": 1,
   "id": "41e6bbb9-1e74-4eac-86c7-42a544cd7cf6",
   "metadata": {},
   "outputs": [],
   "source": [
    "import numpy as np\n",
    "import pandas as pd"
   ]
  },
  {
   "cell_type": "code",
   "execution_count": 2,
   "id": "bca66625-6598-4a61-9b7d-0e18788d85ea",
   "metadata": {},
   "outputs": [],
   "source": [
    "census_data=pd.read_csv(\"Pop_short.csv\", index_col=False)"
   ]
  },
  {
   "cell_type": "code",
   "execution_count": 3,
   "id": "08ffcfb8-df21-44df-b87e-e2a59ca4eeb0",
   "metadata": {},
   "outputs": [
    {
     "name": "stdout",
     "output_type": "stream",
     "text": [
      "    OBJECTID  GEOID20      NAME20         NAMELSAD20      ALAND20    AWATER20  \\\n",
      "0          1    41009    Columbia    Columbia County   1705984341    78454245   \n",
      "1          2    41027  Hood River  Hood River County   1352200146    29043701   \n",
      "2          3    41025      Harney      Harney County  26248072905   241568254   \n",
      "3          4    41041     Lincoln     Lincoln County   2540730649   553147948   \n",
      "4          5    41033   Josephine   Josephine County   4244080762     5631773   \n",
      "..       ...      ...         ...                ...          ...         ...   \n",
      "70        71    53047    Okanogan    Okanogan County  13639398051   120413773   \n",
      "71        72    53063     Spokane     Spokane County   4569307859    43418590   \n",
      "72        73    53029      Island      Island County    539943913   799920796   \n",
      "73        74    53009     Clallam     Clallam County   4503318282  2409404421   \n",
      "74        75    53065     Stevens     Stevens County   6415653629   162946193   \n",
      "\n",
      "    INTPTLAT20  INTPTLON20  Shape_Area           StCtyName  ... P0040010  \\\n",
      "0    45.941932 -123.081079    0.207041      ColumbiaOregon  ...       32   \n",
      "1    45.511775 -121.655976    0.159062    Hood RiverOregon  ...       19   \n",
      "2    43.064449 -118.987169    2.927403        HarneyOregon  ...        3   \n",
      "3    44.641061 -123.911212    0.350955       LincolnOregon  ...       31   \n",
      "4    42.386983 -123.571620    0.464440     JosephineOregon  ...       62   \n",
      "..         ...         ...         ...                 ...  ...      ...   \n",
      "70   48.548453 -119.742235    1.675995  OkanoganWashington  ...       31   \n",
      "71   47.620375 -117.403371    0.551918   SpokaneWashington  ...      386   \n",
      "72   48.158554 -122.670649    0.161982    IslandWashington  ...       73   \n",
      "73   48.110903 -123.889860    0.834865   ClallamWashington  ...       86   \n",
      "74   48.388728 -117.854455    0.798971   StevensWashington  ...       47   \n",
      "\n",
      "   P0040011  P0040012  P0040028  P0040049  P0040065  P0040072  H0010001  \\\n",
      "0       784       728        50         4         2         0     20698   \n",
      "1       256       242        12         0         2         0      9271   \n",
      "2       114       112         2         0         0         0      3835   \n",
      "3       888       844        44         0         0         0     30610   \n",
      "4      1308      1229        74         4         1         0     38001   \n",
      "..      ...       ...       ...       ...       ...       ...       ...   \n",
      "70      595       573        20         0         2         0     22245   \n",
      "71     7658      7124       495        32         7         0    201434   \n",
      "72     1487      1378       101         7         1         0     40234   \n",
      "73     1324      1247        68         9         0         0     35582   \n",
      "74      730       697        28         5         0         0     21156   \n",
      "\n",
      "    H0010002  H0010003  \n",
      "0      19183      1515  \n",
      "1       8173      1098  \n",
      "2       3205       630  \n",
      "3      20550     10060  \n",
      "4      34646      3355  \n",
      "..       ...       ...  \n",
      "70     16519      5726  \n",
      "71    187167     14267  \n",
      "72     32746      7488  \n",
      "73     31329      4253  \n",
      "74     17316      3840  \n",
      "\n",
      "[75 rows x 117 columns]\n"
     ]
    }
   ],
   "source": [
    "print(census_data)"
   ]
  },
  {
   "cell_type": "code",
   "execution_count": 4,
   "id": "f02aaee6-379f-412d-9da4-585baa0e5768",
   "metadata": {},
   "outputs": [
    {
     "data": {
      "text/plain": [
       "OBJECTID       int64\n",
       "GEOID20        int64\n",
       "NAME20        object\n",
       "NAMELSAD20    object\n",
       "ALAND20        int64\n",
       "               ...  \n",
       "P0040065       int64\n",
       "P0040072       int64\n",
       "H0010001       int64\n",
       "H0010002       int64\n",
       "H0010003       int64\n",
       "Length: 117, dtype: object"
      ]
     },
     "execution_count": 4,
     "metadata": {},
     "output_type": "execute_result"
    }
   ],
   "source": [
    "census_data.dtypes"
   ]
  },
  {
   "cell_type": "code",
   "execution_count": 5,
   "id": "5340d4fc-6330-4924-8016-759091db3a36",
   "metadata": {},
   "outputs": [
    {
     "data": {
      "text/plain": [
       "OBJECTID               int64\n",
       "GEOID20                int64\n",
       "NAME20                object\n",
       "NAMELSAD20            object\n",
       "ALAND20                int64\n",
       "AWATER20               int64\n",
       "INTPTLAT20           float64\n",
       "INTPTLON20           float64\n",
       "Shape_Area           float64\n",
       "StCtyName             object\n",
       "STNAME                object\n",
       "CTYNAME               object\n",
       "ESTIMATESBASE2020      int64\n",
       "POPESTIMATE2020        int64\n",
       "POPESTIMATE2021        int64\n",
       "dtype: object"
      ]
     },
     "execution_count": 5,
     "metadata": {},
     "output_type": "execute_result"
    }
   ],
   "source": [
    "census_data.dtypes[0:15]\n"
   ]
  },
  {
   "cell_type": "code",
   "execution_count": 6,
   "id": "03c90210-a03e-436d-8953-b3860e31b0ce",
   "metadata": {},
   "outputs": [
    {
     "data": {
      "text/plain": [
       "NPOPCHG2021             int64\n",
       "BIRTHS2020              int64\n",
       "BIRTHS2021              int64\n",
       "DEATHS2020              int64\n",
       "DEATHS2021              int64\n",
       "NATURALCHG2020          int64\n",
       "NATURALCHG2021          int64\n",
       "INTERNATIONALMIG2020    int64\n",
       "INTERNATIONALMIG2021    int64\n",
       "DOMESTICMIG2020         int64\n",
       "DOMESTICMIG2021         int64\n",
       "NETMIG2020              int64\n",
       "NETMIG2021              int64\n",
       "RESIDUAL2020            int64\n",
       "dtype: object"
      ]
     },
     "execution_count": 6,
     "metadata": {},
     "output_type": "execute_result"
    }
   ],
   "source": [
    "census_data.dtypes[16:30]"
   ]
  },
  {
   "cell_type": "code",
   "execution_count": 6,
   "id": "fa364c5f-d42d-411d-8813-081a2d98e0b1",
   "metadata": {},
   "outputs": [
    {
     "data": {
      "text/plain": [
       "RBIRTH2021               float64\n",
       "RDEATH2021               float64\n",
       "RNATURALCHG2021          float64\n",
       "RINTERNATIONALMIG2021    float64\n",
       "RDOMESTICMIG2021         float64\n",
       "RNETMIG2021              float64\n",
       "POP100                     int64\n",
       "HU100                      int64\n",
       "P0010001                   int64\n",
       "P0010002                   int64\n",
       "P0010003                   int64\n",
       "P0010004                   int64\n",
       "P0010005                   int64\n",
       "P0010006                   int64\n",
       "P0010007                   int64\n",
       "P0010008                   int64\n",
       "P0010009                   int64\n",
       "P0010010                   int64\n",
       "P0010011                   int64\n",
       "dtype: object"
      ]
     },
     "execution_count": 6,
     "metadata": {},
     "output_type": "execute_result"
    }
   ],
   "source": [
    "census_data.dtypes[31:50]"
   ]
  },
  {
   "cell_type": "code",
   "execution_count": 7,
   "id": "c1b53660-6008-4d44-b5f1-e6816183d58b",
   "metadata": {},
   "outputs": [
    {
     "data": {
      "text/plain": [
       "ALAND20     int64\n",
       "AWATER20    int64\n",
       "dtype: object"
      ]
     },
     "execution_count": 7,
     "metadata": {},
     "output_type": "execute_result"
    }
   ],
   "source": [
    "census_data.dtypes[4:6]\n"
   ]
  },
  {
   "cell_type": "code",
   "execution_count": 8,
   "id": "1dc655b1-a4d2-4a98-ad88-64371738a85f",
   "metadata": {},
   "outputs": [
    {
     "data": {
      "text/plain": [
       "P0010013    int64\n",
       "P0010014    int64\n",
       "P0010015    int64\n",
       "P0010016    int64\n",
       "P0010017    int64\n",
       "P0010018    int64\n",
       "P0010019    int64\n",
       "P0010020    int64\n",
       "P0010021    int64\n",
       "P0010022    int64\n",
       "P0010023    int64\n",
       "P0010024    int64\n",
       "P0010025    int64\n",
       "P0010026    int64\n",
       "P0010047    int64\n",
       "P0010063    int64\n",
       "P0010070    int64\n",
       "P0020001    int64\n",
       "P0020002    int64\n",
       "dtype: object"
      ]
     },
     "execution_count": 8,
     "metadata": {},
     "output_type": "execute_result"
    }
   ],
   "source": [
    "census_data.dtypes[51:70]"
   ]
  },
  {
   "cell_type": "code",
   "execution_count": 11,
   "id": "86160266-28ab-4522-8b2c-2fde7db29fc4",
   "metadata": {},
   "outputs": [
    {
     "data": {
      "text/plain": [
       "P0020003    int64\n",
       "P0020004    int64\n",
       "P0020005    int64\n",
       "P0020006    int64\n",
       "P0020007    int64\n",
       "P0020008    int64\n",
       "P0020009    int64\n",
       "P0020010    int64\n",
       "P0020011    int64\n",
       "P0020012    int64\n",
       "P0020028    int64\n",
       "P0020049    int64\n",
       "P0020065    int64\n",
       "P0020072    int64\n",
       "P0030001    int64\n",
       "P0030002    int64\n",
       "P0030003    int64\n",
       "P0030004    int64\n",
       "P0030005    int64\n",
       "P0030006    int64\n",
       "dtype: object"
      ]
     },
     "execution_count": 11,
     "metadata": {},
     "output_type": "execute_result"
    }
   ],
   "source": [
    "census_data.dtypes[70:90]"
   ]
  },
  {
   "cell_type": "code",
   "execution_count": 9,
   "id": "991efa39-61b2-46ed-b00c-47b20cc32f7c",
   "metadata": {},
   "outputs": [],
   "source": [
    "sub_census  = np.array([census_data[\"INTPTLAT20\"],census_data[\"INTPTLON20\"],census_data[\"P0010001\"]])\n",
    "sub_census = sub_census.transpose()"
   ]
  },
  {
   "cell_type": "code",
   "execution_count": 10,
   "id": "de135f4b-d17d-47e7-a3a6-46bfac3dd96a",
   "metadata": {},
   "outputs": [
    {
     "name": "stdout",
     "output_type": "stream",
     "text": [
      "[[ 4.59419320e+01 -1.23081079e+02  4.93510000e+04]\n",
      " [ 4.55117753e+01 -1.21655976e+02  2.23460000e+04]\n",
      " [ 4.30644492e+01 -1.18987169e+02  7.42200000e+03]\n",
      " [ 4.46410607e+01 -1.23911212e+02  4.60340000e+04]\n",
      " [ 4.23869829e+01 -1.23571620e+02  8.27130000e+04]\n",
      " [ 4.53829550e+01 -1.20276246e+02  1.87100000e+03]\n",
      " [ 4.39151181e+01 -1.21225575e+02  1.57733000e+05]\n",
      " [ 4.49003723e+01 -1.23398640e+02  7.54030000e+04]\n",
      " [ 4.51645359e+01 -1.21165069e+02  2.52130000e+04]\n",
      " [ 4.53992158e+01 -1.20678512e+02  1.76500000e+03]\n",
      " [ 4.52478274e+01 -1.23316399e+02  9.91930000e+04]\n",
      " [ 4.24664387e+01 -1.24210929e+02  2.23640000e+04]\n",
      " [ 4.55911997e+01 -1.18733880e+02  7.58890000e+04]\n",
      " [ 4.46451505e+01 -1.21178631e+02  2.17200000e+04]\n",
      " [ 4.55535419e+01 -1.23097615e+02  5.29710000e+05]\n",
      " [ 4.55937530e+01 -1.17185580e+02  7.00800000e+03]\n",
      " [ 4.41630537e+01 -1.20371585e+02  2.09780000e+04]\n",
      " [ 4.51604934e+01 -1.22195127e+02  3.75992000e+05]\n",
      " [ 4.60245094e+01 -1.23705037e+02  3.70390000e+04]\n",
      " [ 4.26837613e+01 -1.21646168e+02  6.63800000e+04]\n",
      " [ 4.54254956e+01 -1.19602311e+02  1.11730000e+04]\n",
      " [ 4.24116214e+01 -1.22675611e+02  2.03206000e+05]\n",
      " [ 4.55477107e+01 -1.22417362e+02  7.35334000e+05]\n",
      " [ 4.47034268e+01 -1.17691933e+02  1.61340000e+04]\n",
      " [ 4.44938816e+01 -1.23424664e+02  8.55790000e+04]\n",
      " [ 4.49008984e+01 -1.22576260e+02  3.15335000e+05]\n",
      " [ 4.44963261e+01 -1.19014057e+02  7.44500000e+03]\n",
      " [ 4.31859095e+01 -1.24094133e+02  6.30430000e+04]\n",
      " [ 4.44888982e+01 -1.22537208e+02  1.16672000e+05]\n",
      " [ 4.27884009e+01 -1.20389790e+02  7.89500000e+03]\n",
      " [ 4.47364146e+01 -1.20026861e+02  1.44100000e+03]\n",
      " [ 4.31886252e+01 -1.17603191e+02  3.13130000e+04]\n",
      " [ 4.54558895e+01 -1.23759299e+02  2.52500000e+04]\n",
      " [ 4.39283337e+01 -1.22897581e+02  3.51715000e+05]\n",
      " [ 4.53040809e+01 -1.17999149e+02  2.57480000e+04]\n",
      " [ 4.32863277e+01 -1.23154476e+02  1.07667000e+05]\n",
      " [ 4.85438247e+01 -1.17232191e+02  1.30010000e+04]\n",
      " [ 4.88426531e+01 -1.21836433e+02  2.01140000e+05]\n",
      " [ 4.78609739e+01 -1.20619041e+02  7.24530000e+04]\n",
      " [ 4.61818612e+01 -1.17227781e+02  2.16230000e+04]\n",
      " [ 4.84732563e+01 -1.18533589e+02  7.55100000e+03]\n",
      " [ 4.77417625e+01 -1.19694622e+02  3.84310000e+04]\n",
      " [ 4.62281252e+01 -1.19516659e+02  1.75177000e+05]\n",
      " [ 4.64293176e+01 -1.17536705e+02  2.26600000e+03]\n",
      " [ 4.74905518e+01 -1.21833977e+02  1.93124900e+06]\n",
      " [ 4.65565866e+01 -1.23782419e+02  2.09200000e+04]\n",
      " [ 4.58704463e+01 -1.20779305e+02  2.03180000e+04]\n",
      " [ 4.85071904e+01 -1.23103769e+02  1.57690000e+04]\n",
      " [ 4.71137324e+01 -1.23826735e+02  7.27970000e+04]\n",
      " [ 4.61967854e+01 -1.22678460e+02  1.02410000e+05]\n",
      " [ 4.62546057e+01 -1.18480370e+02  5.87810000e+04]\n",
      " [ 4.72136328e+01 -1.19467788e+02  8.91200000e+04]\n",
      " [ 4.70112378e+01 -1.18512861e+02  1.87280000e+04]\n",
      " [ 4.57717295e+01 -1.22485953e+02  4.25363000e+05]\n",
      " [ 4.75827433e+01 -1.18417693e+02  1.05700000e+04]\n",
      " [ 4.76395948e+01 -1.22649634e+02  2.51133000e+05]\n",
      " [ 4.69059441e+01 -1.17535390e+02  4.47760000e+04]\n",
      " [ 4.73508322e+01 -1.23173103e+02  6.06990000e+04]\n",
      " [ 4.84932917e+01 -1.21815770e+02  1.16901000e+05]\n",
      " [ 4.70514128e+01 -1.22153240e+02  7.95225000e+05]\n",
      " [ 4.69358216e+01 -1.22830152e+02  2.52264000e+05]\n",
      " [ 4.65375019e+01 -1.18903891e+02  7.81630000e+04]\n",
      " [ 4.60247853e+01 -1.21953232e+02  1.10660000e+04]\n",
      " [ 4.62946377e+01 -1.23424458e+02  3.97800000e+03]\n",
      " [ 4.65800714e+01 -1.22377444e+02  7.54550000e+04]\n",
      " [ 4.78057075e+01 -1.23527057e+02  2.98720000e+04]\n",
      " [ 4.62928505e+01 -1.17911635e+02  4.07800000e+03]\n",
      " [ 4.71244411e+01 -1.20676709e+02  4.09150000e+04]\n",
      " [ 4.80549130e+01 -1.21765038e+02  7.13335000e+05]\n",
      " [ 4.64565581e+01 -1.20740145e+02  2.43231000e+05]\n",
      " [ 4.85484533e+01 -1.19742235e+02  4.11200000e+04]\n",
      " [ 4.76203752e+01 -1.17403371e+02  4.71221000e+05]\n",
      " [ 4.81585538e+01 -1.22670649e+02  7.85060000e+04]\n",
      " [ 4.81109034e+01 -1.23889860e+02  7.14040000e+04]\n",
      " [ 4.83887277e+01 -1.17854455e+02  4.35310000e+04]]\n"
     ]
    }
   ],
   "source": [
    "print(sub_census)"
   ]
  },
  {
   "cell_type": "code",
   "execution_count": 27,
   "id": "53e7f49f-9e69-4e42-856d-8cb6c13e03a6",
   "metadata": {},
   "outputs": [],
   "source": [
    "import matplotlib.pyplot as plt\n"
   ]
  },
  {
   "cell_type": "code",
   "execution_count": 28,
   "id": "0f2cba28-50fa-42aa-80a6-017bea0fc09b",
   "metadata": {},
   "outputs": [
    {
     "data": {
      "text/plain": [
       "<matplotlib.collections.PathCollection at 0x7f53acd0c820>"
      ]
     },
     "execution_count": 28,
     "metadata": {},
     "output_type": "execute_result"
    },
    {
     "data": {
      "image/png": "[encoded data removed]",
      "text/plain": [
       "<Figure size 432x288 with 1 Axes>"
      ]
     },
     "metadata": {
      "needs_background": "light"
     },
     "output_type": "display_data"
    }
   ],
   "source": [
    "plt.scatter(sub_census[:, 1], sub_census[:, 2], marker='o', c=None)"
   ]
  },
  {
   "cell_type": "code",
   "execution_count": 36,
   "id": "5b1a2ea5-5e50-45c9-99b6-2747097af33d",
   "metadata": {},
   "outputs": [
    {
     "data": {
      "text/plain": [
       "<matplotlib.collections.PathCollection at 0x7f53accdd730>"
      ]
     },
     "execution_count": 36,
     "metadata": {},
     "output_type": "execute_result"
    },
    {
     "data": {
      "image/png": "[encoded data removed]",
      "text/plain": [
       "<Figure size 432x288 with 1 Axes>"
      ]
     },
     "metadata": {
      "needs_background": "light"
     },
     "output_type": "display_data"
    }
   ],
   "source": [
    "plt.scatter(sub_census[:, 0], sub_census[:, 2], marker='o', c=None)"
   ]
  },
  {
   "cell_type": "code",
   "execution_count": 38,
   "id": "3389900c-d759-4e8e-b121-2fd6530638d9",
   "metadata": {},
   "outputs": [
    {
     "data": {
      "text/plain": [
       "<matplotlib.collections.PathCollection at 0x7f53acba37f0>"
      ]
     },
     "execution_count": 38,
     "metadata": {},
     "output_type": "execute_result"
    },
    {
     "data": {
      "image/png": "[encoded data removed]",
      "text/plain": [
       "<Figure size 432x288 with 1 Axes>"
      ]
     },
     "metadata": {
      "needs_background": "light"
     },
     "output_type": "display_data"
    }
   ],
   "source": [
    "plt.scatter(sub_census[:, 1], sub_census[:, 0], marker='o', c=None)"
   ]
  },
  {
   "cell_type": "code",
   "execution_count": 30,
   "id": "eadb2f86-2152-4f21-8232-c07adbaa805e",
   "metadata": {},
   "outputs": [
    {
     "data": {
      "text/plain": [
       "<matplotlib.collections.PathCollection at 0x7f53acc22f70>"
      ]
     },
     "execution_count": 30,
     "metadata": {},
     "output_type": "execute_result"
    },
    {
     "data": {
      "image/png": "[encoded data removed]",
      "text/plain": [
       "<Figure size 432x288 with 1 Axes>"
      ]
     },
     "metadata": {
      "needs_background": "light"
     },
     "output_type": "display_data"
    }
   ],
   "source": [
    "plt.scatter(projected_data[:, 0], projected_data[:, 1], marker='o', c=None)"
   ]
  },
  {
   "cell_type": "code",
   "execution_count": 13,
   "id": "045d6a8a-5158-46e8-bf74-15e1b74ac172",
   "metadata": {},
   "outputs": [],
   "source": [
    "import kmapper as km\n",
    "#from kmapper import jupyter"
   ]
  },
  {
   "cell_type": "code",
   "execution_count": 43,
   "id": "55b9172f-a89a-4f69-8461-02b62ba7110a",
   "metadata": {},
   "outputs": [
    {
     "name": "stdout",
     "output_type": "stream",
     "text": [
      "KeplerMapper(verbose=1)\n",
      "..Composing projection pipeline of length 1:\n",
      "\tProjections: [1, 2]\n",
      "\tDistance matrices: False\n",
      "\tScalers: MinMaxScaler()\n",
      "..Projecting on data shaped (75, 3)\n",
      "\n",
      "..Projecting data using: [1, 2]\n",
      "\n",
      "..Scaling with: MinMaxScaler()\n",
      "\n",
      "Mapping on data shaped (75, 3) using lens shaped (75, 2)\n",
      "\n",
      "Creating 100 hypercubes.\n",
      "\n",
      "Created 0 edges and 0 nodes in 0:00:00.021365.\n"
     ]
    },
    {
     "ename": "Exception",
     "evalue": "Visualize requires a mapper with more than 0 nodes. \nIt is possible that the constructed mapper could have been constructed with bad parameters. This can occasionally happens when using the default clustering algorithm. Try changing `eps` or `min_samples` in the DBSCAN clustering algorithm.",
     "output_type": "error",
     "traceback": [
      "\u001b[0;31m---------------------------------------------------------------------------\u001b[0m",
      "\u001b[0;31mException\u001b[0m                                 Traceback (most recent call last)",
      "\u001b[0;32m/tmp/ipykernel_79/1729112159.py\u001b[0m in \u001b[0;36m<module>\u001b[0;34m\u001b[0m\n\u001b[1;32m     12\u001b[0m \u001b[0;34m\u001b[0m\u001b[0m\n\u001b[1;32m     13\u001b[0m \u001b[0;31m# Visualize it\u001b[0m\u001b[0;34m\u001b[0m\u001b[0;34m\u001b[0m\u001b[0m\n\u001b[0;32m---> 14\u001b[0;31m \u001b[0m_\u001b[0m \u001b[0;34m=\u001b[0m \u001b[0mmapper\u001b[0m\u001b[0;34m.\u001b[0m\u001b[0mvisualize\u001b[0m\u001b[0;34m(\u001b[0m\u001b[0mgraph\u001b[0m\u001b[0;34m,\u001b[0m \u001b[0mtitle\u001b[0m\u001b[0;34m=\u001b[0m\u001b[0;34m\"census data\"\u001b[0m\u001b[0;34m)\u001b[0m\u001b[0;34m\u001b[0m\u001b[0;34m\u001b[0m\u001b[0m\n\u001b[0m\u001b[1;32m     15\u001b[0m \u001b[0;34m\u001b[0m\u001b[0m\n\u001b[1;32m     16\u001b[0m \u001b[0;34m\u001b[0m\u001b[0m\n",
      "\u001b[0;32m/opt/conda/lib/python3.9/site-packages/kmapper/utils.py\u001b[0m in \u001b[0;36mwrapper\u001b[0;34m(*args, **kwargs)\u001b[0m\n\u001b[1;32m      9\u001b[0m         \u001b[0;32mdef\u001b[0m \u001b[0mwrapper\u001b[0m\u001b[0;34m(\u001b[0m\u001b[0;34m*\u001b[0m\u001b[0margs\u001b[0m\u001b[0;34m,\u001b[0m \u001b[0;34m**\u001b[0m\u001b[0mkwargs\u001b[0m\u001b[0;34m)\u001b[0m\u001b[0;34m:\u001b[0m\u001b[0;34m\u001b[0m\u001b[0;34m\u001b[0m\u001b[0m\n\u001b[1;32m     10\u001b[0m             \u001b[0mrename_kwargs\u001b[0m\u001b[0;34m(\u001b[0m\u001b[0mf\u001b[0m\u001b[0;34m.\u001b[0m\u001b[0m__name__\u001b[0m\u001b[0;34m,\u001b[0m \u001b[0mkwargs\u001b[0m\u001b[0;34m,\u001b[0m \u001b[0maliases\u001b[0m\u001b[0;34m)\u001b[0m\u001b[0;34m\u001b[0m\u001b[0;34m\u001b[0m\u001b[0m\n\u001b[0;32m---> 11\u001b[0;31m             \u001b[0;32mreturn\u001b[0m \u001b[0mf\u001b[0m\u001b[0;34m(\u001b[0m\u001b[0;34m*\u001b[0m\u001b[0margs\u001b[0m\u001b[0;34m,\u001b[0m \u001b[0;34m**\u001b[0m\u001b[0mkwargs\u001b[0m\u001b[0;34m)\u001b[0m\u001b[0;34m\u001b[0m\u001b[0;34m\u001b[0m\u001b[0m\n\u001b[0m\u001b[1;32m     12\u001b[0m \u001b[0;34m\u001b[0m\u001b[0m\n\u001b[1;32m     13\u001b[0m         \u001b[0;32mreturn\u001b[0m \u001b[0mwrapper\u001b[0m\u001b[0;34m\u001b[0m\u001b[0;34m\u001b[0m\u001b[0m\n",
      "\u001b[0;32m/opt/conda/lib/python3.9/site-packages/kmapper/kmapper.py\u001b[0m in \u001b[0;36mvisualize\u001b[0;34m(self, graph, color_values, color_function_name, node_color_function, colorscale, custom_tooltips, custom_meta, path_html, title, save_file, X, X_names, lens, lens_names, nbins, include_searchbar)\u001b[0m\n\u001b[1;32m    828\u001b[0m \u001b[0;34m\u001b[0m\u001b[0m\n\u001b[1;32m    829\u001b[0m         \u001b[0;32mif\u001b[0m \u001b[0;32mnot\u001b[0m \u001b[0mlen\u001b[0m\u001b[0;34m(\u001b[0m\u001b[0mgraph\u001b[0m\u001b[0;34m[\u001b[0m\u001b[0;34m\"nodes\"\u001b[0m\u001b[0;34m]\u001b[0m\u001b[0;34m)\u001b[0m \u001b[0;34m>\u001b[0m \u001b[0;36m0\u001b[0m\u001b[0;34m:\u001b[0m\u001b[0;34m\u001b[0m\u001b[0;34m\u001b[0m\u001b[0m\n\u001b[0;32m--> 830\u001b[0;31m             raise Exception(\n\u001b[0m\u001b[1;32m    831\u001b[0m                 \u001b[0;34m\"Visualize requires a mapper with more than 0 nodes. \\nIt is possible that the constructed mapper could have been constructed with bad parameters. This can occasionally happens when using the default clustering algorithm. Try changing `eps` or `min_samples` in the DBSCAN clustering algorithm.\"\u001b[0m\u001b[0;34m\u001b[0m\u001b[0;34m\u001b[0m\u001b[0m\n\u001b[1;32m    832\u001b[0m             )\n",
      "\u001b[0;31mException\u001b[0m: Visualize requires a mapper with more than 0 nodes. \nIt is possible that the constructed mapper could have been constructed with bad parameters. This can occasionally happens when using the default clustering algorithm. Try changing `eps` or `min_samples` in the DBSCAN clustering algorithm."
     ]
    }
   ],
   "source": [
    "# Initialize\n",
    "mapper = km.KeplerMapper(verbose=1)\n",
    "\n",
    "# Fit to and transform the data\n",
    "projected_data = mapper.fit_transform(sub_census, projection=[1,2]) \n",
    "\n",
    "# Create a cover with 10 elements\n",
    "cover = km.Cover(n_cubes=10)\n",
    "\n",
    "# Create dictionary called 'graph' with nodes, edges and meta-information\n",
    "graph = mapper.map(projected_data, sub_census, cover=cover)\n",
    "\n",
    "# Visualize it\n",
    "_ = mapper.visualize(graph, title=\"census data\")\n",
    "\n",
    "\n",
    "##use an IFrame to display a vis with a set width and height\n",
    "from IPython.display import IFrame\n",
    "IFrame(src=\"mapper_visualization_output.html\", width=800, height=600)"
   ]
  },
  {
   "cell_type": "code",
   "execution_count": null,
   "id": "6e4c8256-7f64-4fef-a5f7-ae82ab091da7",
   "metadata": {},
   "outputs": [],
   "source": []
  }
 ],
 "metadata": {
  "kernelspec": {
   "display_name": "Python 3 (ipykernel)",
   "language": "python",
   "name": "python3"
  },
  "language_info": {
   "codemirror_mode": {
    "name": "ipython",
    "version": 3
   },
   "file_extension": ".py",
   "mimetype": "text/x-python",
   "name": "python",
   "nbconvert_exporter": "python",
   "pygments_lexer": "ipython3",
   "version": "3.9.7"
  }
 },
 "nbformat": 4,
 "nbformat_minor": 5
}
